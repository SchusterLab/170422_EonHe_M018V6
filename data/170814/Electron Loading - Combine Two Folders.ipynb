version https://git-lfs.github.com/spec/v1
oid sha256:d4c550bae6b78d3a00973032bddfdb52e0b71b2d10572a2b92e94503acccd4fe
size 351190
