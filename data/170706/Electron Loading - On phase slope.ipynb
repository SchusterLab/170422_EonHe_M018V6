version https://git-lfs.github.com/spec/v1
oid sha256:ba2002b24db7834f2cb075a6f090f12f7da235e2e4c83523f85d3ec0587b3e15
size 422635
