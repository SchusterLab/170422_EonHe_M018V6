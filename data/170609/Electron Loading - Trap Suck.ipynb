version https://git-lfs.github.com/spec/v1
oid sha256:15b1bf017cd21592814d15d2e5d8315782989f2fec4d06a252fd5a70f6d036be
size 365265
