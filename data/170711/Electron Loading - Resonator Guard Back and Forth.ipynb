version https://git-lfs.github.com/spec/v1
oid sha256:365c16d011922c5cbc75f2e77feb8246c87e90705bb853c1367833482105cea4
size 506552
