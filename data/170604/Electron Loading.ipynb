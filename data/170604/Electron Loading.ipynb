version https://git-lfs.github.com/spec/v1
oid sha256:2ab0c1ef2bb971d7f154141d11f48ec18933d0a723860403f9e1b130a03906a5
size 2178637
