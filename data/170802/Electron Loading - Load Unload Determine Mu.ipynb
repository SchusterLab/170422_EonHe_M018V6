version https://git-lfs.github.com/spec/v1
oid sha256:742a817d3a59f4900a27a0259d99cade6a16660a4de2cbca20d50c7532ca5ce3
size 382626
