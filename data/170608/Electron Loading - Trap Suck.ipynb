version https://git-lfs.github.com/spec/v1
oid sha256:b083eb410e4ff8a5ac6694574b6878f158ec0a7147343c9353518df89b27a981
size 332321
