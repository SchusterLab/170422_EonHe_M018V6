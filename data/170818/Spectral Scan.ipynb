version https://git-lfs.github.com/spec/v1
oid sha256:31bb347e0e0697887a3497ae08342d6c7a5e213eedb497acb740ea4a10686920
size 1037086
