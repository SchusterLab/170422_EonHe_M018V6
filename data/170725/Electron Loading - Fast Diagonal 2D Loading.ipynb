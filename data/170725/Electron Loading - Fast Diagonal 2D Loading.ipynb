version https://git-lfs.github.com/spec/v1
oid sha256:ab3663d70e97ae811cec27f6e21aae88ba14ada3adae460ea3a28f663bcd5a15
size 852229
