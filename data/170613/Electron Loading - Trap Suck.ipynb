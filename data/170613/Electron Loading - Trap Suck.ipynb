version https://git-lfs.github.com/spec/v1
oid sha256:8cbe4c4488ad0eef1d2929f25d2223071c3bcdca66e99773f31ca2ae14e9807e
size 363720
