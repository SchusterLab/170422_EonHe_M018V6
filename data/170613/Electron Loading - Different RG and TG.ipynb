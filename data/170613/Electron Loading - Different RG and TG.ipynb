version https://git-lfs.github.com/spec/v1
oid sha256:3862609b2f756d3fb8cbb02eee9237a93159761265a91e96f214c47c793e1ca3
size 963938
