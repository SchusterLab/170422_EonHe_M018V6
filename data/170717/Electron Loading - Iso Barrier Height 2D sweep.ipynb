version https://git-lfs.github.com/spec/v1
oid sha256:ecf34ee0f89a4c4b5eaf4491c041a389ceb43a8122f7c8102bd52ddd63aec003
size 1252684
