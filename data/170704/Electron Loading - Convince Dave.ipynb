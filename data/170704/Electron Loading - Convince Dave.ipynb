version https://git-lfs.github.com/spec/v1
oid sha256:6beb013e34b2df96a8cd36aa093cf3a0d25c4fbc8ed918ee021a4575df345d73
size 315625
