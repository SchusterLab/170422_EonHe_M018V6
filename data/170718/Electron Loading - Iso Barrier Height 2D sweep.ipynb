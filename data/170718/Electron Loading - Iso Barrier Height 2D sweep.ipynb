version https://git-lfs.github.com/spec/v1
oid sha256:a8a3afeff15dbb884058082facc6a23d46fea13ac04966d243b1221d88646c0c
size 1152927
