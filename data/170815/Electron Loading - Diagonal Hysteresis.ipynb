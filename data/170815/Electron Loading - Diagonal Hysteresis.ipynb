version https://git-lfs.github.com/spec/v1
oid sha256:8a2f31b2f645f5cf85f17510010ccf77b53874a2f305d7d798e9894f52495c0b
size 1820951
