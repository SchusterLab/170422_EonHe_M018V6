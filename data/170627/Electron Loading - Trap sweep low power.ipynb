version https://git-lfs.github.com/spec/v1
oid sha256:b5fe9b7540e88cd532519049d564d60d4099e78e8b36070ef5d8cd0f6a129ff5
size 250184
