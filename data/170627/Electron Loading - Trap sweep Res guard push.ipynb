version https://git-lfs.github.com/spec/v1
oid sha256:dd4cbae9c27a2f7c2d6a1bbc206aa5ce00d56fe6a72ebd173b64fa78a81da315
size 508167
