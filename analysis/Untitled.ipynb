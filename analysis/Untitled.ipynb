{
 "cells": [
  {
   "cell_type": "code",
   "execution_count": 1,
   "metadata": {
    "collapsed": false
   },
   "outputs": [
    {
     "name": "stdout",
     "output_type": "stream",
     "text": [
      "['', '/mnt/slab/_Data/170422\\\\ -\\\\ EonHe\\\\ M018V6\\\\ with\\\\ L3\\\\ etch/lib', '/mnt/slab/_Data/170422 - EonHe M018V6 with L3 etch/analysis', '/home/eonhe/anaconda3/lib/python36.zip', '/home/eonhe/anaconda3/lib/python3.6', '/home/eonhe/anaconda3/lib/python3.6/lib-dynload', '/home/eonhe/anaconda3/lib/python3.6/site-packages', '/home/eonhe/anaconda3/lib/python3.6/site-packages/Sphinx-1.5.1-py3.6.egg', '/home/eonhe/anaconda3/lib/python3.6/site-packages/setuptools-27.2.0-py3.6.egg', '/home/eonhe/anaconda3/lib/python3.6/site-packages/IPython/extensions', '/home/eonhe/.ipython']\n"
     ]
    }
   ],
   "source": [
    "import sys, common"
   ]
  },
  {
   "cell_type": "code",
   "execution_count": 2,
   "metadata": {
    "collapsed": false
   },
   "outputs": [],
   "source": [
    "from common import kfit"
   ]
  },
  {
   "cell_type": "code",
   "execution_count": 10,
   "metadata": {
    "collapsed": false
   },
   "outputs": [
    {
     "data": {
      "text/plain": [
       "'/mnt/slab/_Data/170422 - EonHe M018V6 with L3 etch/analysis'"
      ]
     },
     "execution_count": 10,
     "metadata": {},
     "output_type": "execute_result"
    }
   ],
   "source": []
  },
  {
   "cell_type": "code",
   "execution_count": null,
   "metadata": {
    "collapsed": true
   },
   "outputs": [],
   "source": []
  }
 ],
 "metadata": {
  "kernelspec": {
   "display_name": "Python 3",
   "language": "python",
   "name": "python3"
  },
  "language_info": {
   "codemirror_mode": {
    "name": "ipython",
    "version": 3
   },
   "file_extension": ".py",
   "mimetype": "text/x-python",
   "name": "python",
   "nbconvert_exporter": "python",
   "pygments_lexer": "ipython3",
   "version": "3.6.0"
  }
 },
 "nbformat": 4,
 "nbformat_minor": 2
}
